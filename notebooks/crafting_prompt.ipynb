{
 "cells": [
  {
   "cell_type": "markdown",
   "metadata": {},
   "source": [
    "# Crafting promt\n",
    "\n",
    "The purpose of this notebook is to make the LLM craft a prompt for a later task. "
   ]
  },
  {
   "cell_type": "code",
   "execution_count": 27,
   "metadata": {},
   "outputs": [],
   "source": [
    "# Importing the necessary libraries\n",
    "import os\n",
    "import requests\n",
    "from bs4 import BeautifulSoup\n",
    "import json\n",
    "from IPython.display import Markdown, display, update_display\n",
    "import openai"
   ]
  },
  {
   "cell_type": "code",
   "execution_count": 28,
   "metadata": {},
   "outputs": [],
   "source": [
    "# CONSTANTS\n",
    "OLLAMA_API = \"http://127.0.0.1:11434//api/chat\"\n",
    "HEADERS = {\"Content-Type\": \"application/json\"}\n",
    "MODEL = \"llama3.2\""
   ]
  },
  {
   "cell_type": "code",
   "execution_count": 29,
   "metadata": {},
   "outputs": [],
   "source": [
    "# Crea una lista de mensajes utilizando el mismo formato que el API de OpenAI\n",
    "messages = [{\"role\": \"user\", \"content\": \"Hola, ¿cómo estás?\"}]\n",
    "payload = {\n",
    "    \"model\": MODEL,\n",
    "    \"messages\": messages,\n",
    "    \"stream\": False\n",
    "}"
   ]
  },
  {
   "cell_type": "code",
   "execution_count": 30,
   "metadata": {},
   "outputs": [],
   "source": [
    "# Class for retrieve the Website content\n",
    "class Website:\n",
    "    \"\"\" Class to retrieve the content of a website \"\"\"\n",
    "    def __init__(self, url):\n",
    "        self.url = url\n",
    "        response = requests.get(url)\n",
    "        self.body = response.text\n",
    "        self.soup = BeautifulSoup(self.body, \"html.parser\")     \n",
    "        self.title = self.soup.title.string if self.soup.title else None   \n",
    "\n",
    "        # Eliminating irrelevant tags\n",
    "        if self.soup.body:\n",
    "            for irrelevant in self.soup([\"script\", \"style\", \"img\", \"input\"]):            \n",
    "                irrelevant.decompose()\n",
    "            self.text = self.soup.body.get_text(separator=\"\\n\", strip=True)\n",
    "        else:\n",
    "            self.text = \"\"\n",
    "        \n",
    "        # Extracting the links\n",
    "        links = (link.get(\"href\") for link in self.soup.find_all(\"a\"))\n",
    "        self.links = [link for link in links if link]\n",
    "\n",
    "    # Method to get the content of the website\n",
    "    def get_content(self):\n",
    "        return f\"Titulo de la Web: \\n{self.title}\\n\\nTexto de la Web: \\n{self.text}\\n\\nLinks de la Web: \\n{self.links}\""
   ]
  },
  {
   "cell_type": "markdown",
   "metadata": {},
   "source": [
    "Extract relevant links using JSON format"
   ]
  },
  {
   "cell_type": "code",
   "execution_count": 31,
   "metadata": {},
   "outputs": [
    {
     "name": "stdout",
     "output_type": "stream",
     "text": [
      "You are provided a list of links from a website. You must decide which links are relevant for creating a brochure and which are not like links to About, FAQ, etc.\n",
      "You must respond in a JSON format like this:.\n",
      "\n",
      "{\n",
      "    \"links\": [\n",
      "        {\"type\": \"About us page\", \"url\": \"https://url.completa/aqui/va/sobre/nosotros\"},\n",
      "        {\"type\": \"Course pagge\": \"url\": \"https://otra.url.completa/courses\"}\n",
      "    ]\n",
      "}\n",
      "\n"
     ]
    }
   ],
   "source": [
    "link_system_prompt = \"You are provided a list of links from a website. \\\n",
    "You must decide which links are relevant for creating a brochure and which are not \\\n",
    "like links to About, FAQ, etc.\\n\"\n",
    "link_system_prompt += \"You must respond in a JSON format like this:.\\n\"                                        \n",
    "link_system_prompt += \"\"\"\n",
    "{\n",
    "    \"links\": [\n",
    "        {\"type\": \"About us page\", \"url\": \"https://url.completa/aqui/va/sobre/nosotros\"},\n",
    "        {\"type\": \"Course pagge\": \"url\": \"https://otra.url.completa/courses\"}\n",
    "    ]\n",
    "}\n",
    "\"\"\"\n",
    "print(link_system_prompt)"
   ]
  },
  {
   "cell_type": "code",
   "execution_count": 32,
   "metadata": {},
   "outputs": [],
   "source": [
    "def get_links_user_prompt(website):\n",
    "    user_prompt = f\"Aquí hay una lista de enlaces de la página web {website.url} - \"\n",
    "    user_prompt += \"Por favor, decide cuáles de estos son enlaces web relevantes para un folleto sobre la empresa. Responde con la URL https completa en formato JSON. \\\n",
    "No incluyas Términos y Condiciones, Privacidad ni enlaces de correo electrónico.\\n\"\n",
    "    user_prompt += \"Links (puede que algunos sean links relativos):\\n\"\n",
    "    user_prompt += \"\\n\".join(website.links)\n",
    "    return user_prompt"
   ]
  },
  {
   "cell_type": "code",
   "execution_count": 39,
   "metadata": {},
   "outputs": [
    {
     "name": "stdout",
     "output_type": "stream",
     "text": [
      "{\n",
      "\n",
      " \"enlaces\": [\n",
      " \"https://claude.ai/\",\n",
      " \"https://www.anthropic.com/research#entry:8@1:url\",\n",
      " \"https://www.anthropic.com/claude\",\n",
      " \"https://claude.ai/\",\n",
      " \"https://www.anthropic.com/news/claude-3-7-sonnet\",\n",
      " \"https://www.anthropic.com/claude/sonnet\",\n",
      " \"https://www.anthropic.com/news/visible-extended-thinking\",\n",
      " \"https://www.anthropic.com/news/claude-for-enterprise\",\n",
      " \"https://www.anthropic.com/research/constitutional-ai-harmlessness-from-ai-feedback\",\n",
      " \"https://www.anthropic.com/news/core-views-on-ai-safety\",\n",
      " \"https://www.anthropic.com/jobs\",\n",
      " \"https://www.anthropic.com/team\",\n",
      " \"https://www.anthropic.com/enterprise\",\n",
      " \"https://docs.anthropic.com/pricing#anthropic-api\",\n",
      " \"https://console.anthropic.com/\",\n",
      " \"https://www.anthropic.com/news\",\n",
      " \"https://www.anthropic.com/customers\",\n",
      " \"https://www.anthropic.com/engineering\",\n",
      " \"https://www.anthropic.com/company\",\n",
      " \"https://www.anthropic.com/careers\",\n",
      " \"https://status.anthropic.com/\",\n",
      " \"https://supported-countries.anthropic.com\",\n",
      " \"https://docs.anthropic.com/\"\n",
      " ]\n",
      "\n",
      "}\n"
     ]
    },
    {
     "data": {
      "text/plain": [
       "{'model': 'llama3.2',\n",
       " 'created_at': '2025-03-08T20:12:11.1143028Z',\n",
       " 'message': {'role': 'assistant',\n",
       "  'content': '{\\n\\n \"enlaces\": [\\n \"https://claude.ai/\",\\n \"https://www.anthropic.com/research#entry:8@1:url\",\\n \"https://www.anthropic.com/claude\",\\n \"https://claude.ai/\",\\n \"https://www.anthropic.com/news/claude-3-7-sonnet\",\\n \"https://www.anthropic.com/claude/sonnet\",\\n \"https://www.anthropic.com/news/visible-extended-thinking\",\\n \"https://www.anthropic.com/news/claude-for-enterprise\",\\n \"https://www.anthropic.com/research/constitutional-ai-harmlessness-from-ai-feedback\",\\n \"https://www.anthropic.com/news/core-views-on-ai-safety\",\\n \"https://www.anthropic.com/jobs\",\\n \"https://www.anthropic.com/team\",\\n \"https://www.anthropic.com/enterprise\",\\n \"https://docs.anthropic.com/pricing#anthropic-api\",\\n \"https://console.anthropic.com/\",\\n \"https://www.anthropic.com/news\",\\n \"https://www.anthropic.com/customers\",\\n \"https://www.anthropic.com/engineering\",\\n \"https://www.anthropic.com/company\",\\n \"https://www.anthropic.com/careers\",\\n \"https://status.anthropic.com/\",\\n \"https://supported-countries.anthropic.com\",\\n \"https://docs.anthropic.com/\"\\n ]\\n\\n}'},\n",
       " 'done_reason': 'stop',\n",
       " 'done': True,\n",
       " 'total_duration': 6220646500,\n",
       " 'load_duration': 1364957900,\n",
       " 'prompt_eval_count': 425,\n",
       " 'prompt_eval_duration': 232000000,\n",
       " 'eval_count': 298,\n",
       " 'eval_duration': 4621000000}"
      ]
     },
     "execution_count": 39,
     "metadata": {},
     "output_type": "execute_result"
    }
   ],
   "source": [
    "def get_links(url):\n",
    "    \n",
    "    website = Website(url)\n",
    "    OLLAMA_API = \"http://127.0.0.1:11434//api/chat\"\n",
    "    HEADERS = {\"Content-Type\": \"application/json\"}\n",
    "    MODEL = \"llama3.2\"\n",
    "\n",
    "    messages = [{\"role\": \"user\", \"content\": get_links_user_prompt(website)}]\n",
    "    payload = {\n",
    "        \"model\": MODEL,\n",
    "        \"messages\": messages,\n",
    "        \"stream\": False,\n",
    "        \"system\": link_system_prompt,\n",
    "        \"format\":\"json\"\n",
    "    }\n",
    "    \n",
    "    response = requests.post(OLLAMA_API, json=payload, headers=HEADERS)\n",
    "    if response.status_code == 200:\n",
    "        response_data = response.json()\n",
    "        if 'message' in response_data and 'content' in response_data['message']:\n",
    "            print(response_data['message']['content'])\n",
    "            return response_data\n",
    "        else:\n",
    "            print(\"Unexpected response structure:\", response_data)\n",
    "        \n",
    "    else:\n",
    "        print(f\"Error: Request failed with status code {response.status_code}\")            \n",
    "\n",
    "\n",
    "response_1 = get_links(\"https://anthropic.com\")\n",
    "response_1"
   ]
  }
 ],
 "metadata": {
  "kernelspec": {
   "display_name": "Python (llm_venv)",
   "language": "python",
   "name": "llm_venv"
  },
  "language_info": {
   "codemirror_mode": {
    "name": "ipython",
    "version": 3
   },
   "file_extension": ".py",
   "mimetype": "text/x-python",
   "name": "python",
   "nbconvert_exporter": "python",
   "pygments_lexer": "ipython3",
   "version": "3.9.13"
  }
 },
 "nbformat": 4,
 "nbformat_minor": 2
}
