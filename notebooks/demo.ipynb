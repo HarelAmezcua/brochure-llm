{
 "cells": [
  {
   "cell_type": "code",
   "execution_count": null,
   "metadata": {},
   "outputs": [],
   "source": [
    "import requests\n",
    "from bs4 import BeautifulSoup\n",
    "from IPython.display import Markdown, display\n",
    "import json"
   ]
  },
  {
   "cell_type": "code",
   "execution_count": null,
   "metadata": {},
   "outputs": [],
   "source": [
    "# CONSTANTES\n",
    "\n",
    "OLLAMA_API = \"http://127.0.0.1:11434//api/chat\"\n",
    "HEADERS = {\"Content-Type\": \"application/json\"}\n",
    "MODEL = \"llama3.2\""
   ]
  },
  {
   "cell_type": "code",
   "execution_count": null,
   "metadata": {},
   "outputs": [],
   "source": [
    "# Crea una lista de mensajes utilizando el mismo formato que el API de OpenAI\n",
    "messages = [{\"role\": \"user\", \"content\": \"Hola, ¿cómo estás?\"}]"
   ]
  },
  {
   "cell_type": "code",
   "execution_count": 7,
   "metadata": {},
   "outputs": [],
   "source": [
    "payload = {\n",
    "    \"model\": MODEL,\n",
    "    \"messages\": messages,\n",
    "    \"stream\": False\n",
    "}"
   ]
  },
  {
   "cell_type": "code",
   "execution_count": 8,
   "metadata": {},
   "outputs": [
    {
     "name": "stdout",
     "output_type": "stream",
     "text": [
      "Status Code: 200\n",
      "Raw Response: {\"model\":\"llama3.2\",\"created_at\":\"2025-02-22T02:07:06.4362936Z\",\"message\":{\"role\":\"assistant\",\"content\":\"¡Hola! Estoy bien, gracias. Soy un modelo de lenguaje, así que no tengo emociones o sentimientos en el sentido clásico. Pero estoy aquí para ayudarte y responder a tus preguntas. ¿En qué puedo ayudarte hoy?\"},\"done_reason\":\"stop\",\"done\":true,\"total_duration\":1164074300,\"load_duration\":22072300,\"prompt_eval_count\":33,\"prompt_eval_duration\":2000000,\"eval_count\":55,\"eval_duration\":1139000000}\n",
      "¡Hola! Estoy bien, gracias. Soy un modelo de lenguaje, así que no tengo emociones o sentimientos en el sentido clásico. Pero estoy aquí para ayudarte y responder a tus preguntas. ¿En qué puedo ayudarte hoy?\n"
     ]
    }
   ],
   "source": [
    "try:\n",
    "    response = requests.post(OLLAMA_API, json=payload, headers=HEADERS)\n",
    "    \n",
    "    # Print status code for debugging\n",
    "    print(f\"Status Code: {response.status_code}\")\n",
    "    \n",
    "    # Print raw response for debugging\n",
    "    print(f\"Raw Response: {response.text}\")\n",
    "    \n",
    "    if response.status_code == 200:\n",
    "        response_data = response.json()\n",
    "        if 'message' in response_data and 'content' in response_data['message']:\n",
    "            print(response_data['message']['content'])\n",
    "        else:\n",
    "            print(\"Unexpected response structure:\", response_data)\n",
    "    else:\n",
    "        print(f\"Error: Request failed with status code {response.status_code}\")\n",
    "except requests.exceptions.RequestException as e:\n",
    "    print(f\"Request error: {e}\")\n",
    "except JSONDecodeError as e:\n",
    "    print(f\"JSON decode error: {e}\")\n",
    "    print(f\"Response text: {response.text}\")"
   ]
  },
  {
   "cell_type": "code",
   "execution_count": 5,
   "metadata": {},
   "outputs": [
    {
     "name": "stdout",
     "output_type": "stream",
     "text": [
      "Status Code: 200\n",
      "Received 21 JSON objects\n",
      "Hola! Estoy bien, gracias. ¿Y tú? ¿En qué puedo ayudarte hoy?"
     ]
    }
   ],
   "source": [
    "try:\n",
    "    response = requests.post(OLLAMA_API, json=payload, headers=HEADERS)\n",
    "    print(f\"Status Code: {response.status_code}\")\n",
    "    \n",
    "    if response.status_code == 200:\n",
    "        # Split response by newlines to handle streaming JSON\n",
    "        json_strings = [line for line in response.text.split('\\n') if line.strip()]\n",
    "        print(f\"Received {len(json_strings)} JSON objects\")\n",
    "        \n",
    "        # Process each JSON object separately\n",
    "        for json_str in json_strings:\n",
    "            try:\n",
    "                response_data = json.loads(json_str)\n",
    "                if 'message' in response_data and 'content' in response_data['message']:\n",
    "                    print(response_data['message']['content'], end='')\n",
    "            except json.JSONDecodeError:\n",
    "                continue\n",
    "    else:\n",
    "        print(f\"Error: Request failed with status code {response.status_code}\")\n",
    "\n",
    "except requests.exceptions.RequestException as e:\n",
    "    print(f\"Request error: {e}\")\n",
    "except Exception as e:\n",
    "    print(f\"Unexpected error: {e}\")\n",
    "    print(f\"Response text: {response.text[:500]}\")  # Print first 500 chars for debugging"
   ]
  }
 ],
 "metadata": {
  "kernelspec": {
   "display_name": "Python (llm_venv)",
   "language": "python",
   "name": "llm_venv"
  },
  "language_info": {
   "codemirror_mode": {
    "name": "ipython",
    "version": 3
   },
   "file_extension": ".py",
   "mimetype": "text/x-python",
   "name": "python",
   "nbconvert_exporter": "python",
   "pygments_lexer": "ipython3",
   "version": "3.9.13"
  }
 },
 "nbformat": 4,
 "nbformat_minor": 2
}
