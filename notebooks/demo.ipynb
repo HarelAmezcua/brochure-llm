{
 "cells": [
  {
   "cell_type": "code",
   "execution_count": null,
   "metadata": {},
   "outputs": [],
   "source": [
    "import requests\n",
    "from bs4 import BeautifulSoup\n",
    "from IPython.display import Markdown, display\n",
    "import json"
   ]
  },
  {
   "cell_type": "code",
   "execution_count": null,
   "metadata": {},
   "outputs": [],
   "source": [
    "# CONSTANTES\n",
    "\n",
    "OLLAMA_API = \"http://127.0.0.1:11434//api/chat\"\n",
    "HEADERS = {\"Content-Type\": \"application/json\"}\n",
    "MODEL = \"llama3.2\""
   ]
  },
  {
   "cell_type": "code",
   "execution_count": null,
   "metadata": {},
   "outputs": [],
   "source": [
    "# Crea una lista de mensajes utilizando el mismo formato que el API de OpenAI\n",
    "messages = [{\"role\": \"user\", \"content\": \"Hola, ¿cómo estás?\"}]"
   ]
  },
  {
   "cell_type": "code",
   "execution_count": null,
   "metadata": {},
   "outputs": [],
   "source": [
    "payload = {\n",
    "    \"model\": MODEL,\n",
    "    \"messages\": messages,\n",
    "    \"stram\": False\n",
    "}"
   ]
  },
  {
   "cell_type": "code",
   "execution_count": 26,
   "metadata": {},
   "outputs": [
    {
     "name": "stdout",
     "output_type": "stream",
     "text": [
      "Status Code: 200\n",
      "Raw Response: {\"model\":\"llama3.2\",\"created_at\":\"2025-02-16T01:48:50.7234522Z\",\"message\":{\"role\":\"assistant\",\"content\":\"Hola\"},\"done\":false}\n",
      "{\"model\":\"llama3.2\",\"created_at\":\"2025-02-16T01:48:50.7379181Z\",\"message\":{\"role\":\"assistant\",\"content\":\"!\"},\"done\":false}\n",
      "{\"model\":\"llama3.2\",\"created_at\":\"2025-02-16T01:48:50.7528642Z\",\"message\":{\"role\":\"assistant\",\"content\":\" Est\"},\"done\":false}\n",
      "{\"model\":\"llama3.2\",\"created_at\":\"2025-02-16T01:48:50.7675915Z\",\"message\":{\"role\":\"assistant\",\"content\":\"oy\"},\"done\":false}\n",
      "{\"model\":\"llama3.2\",\"created_at\":\"2025-02-16T01:48:50.7829735Z\",\"message\":{\"role\":\"assistant\",\"content\":\" bien\"},\"done\":false}\n",
      "{\"model\":\"llama3.2\",\"created_at\":\"2025-02-16T01:48:50.7986389Z\",\"message\":{\"role\":\"assistant\",\"content\":\",\"},\"done\":false}\n",
      "{\"model\":\"llama3.2\",\"created_at\":\"2025-02-16T01:48:50.8134275Z\",\"message\":{\"role\":\"assistant\",\"content\":\" gracias\"},\"done\":false}\n",
      "{\"model\":\"llama3.2\",\"created_at\":\"2025-02-16T01:48:50.8271987Z\",\"message\":{\"role\":\"assistant\",\"content\":\".\"},\"done\":false}\n",
      "{\"model\":\"llama3.2\",\"created_at\":\"2025-02-16T01:48:50.8430654Z\",\"message\":{\"role\":\"assistant\",\"content\":\" Soy\"},\"done\":false}\n",
      "{\"model\":\"llama3.2\",\"created_at\":\"2025-02-16T01:48:50.8578508Z\",\"message\":{\"role\":\"assistant\",\"content\":\" un\"},\"done\":false}\n",
      "{\"model\":\"llama3.2\",\"created_at\":\"2025-02-16T01:48:50.8714232Z\",\"message\":{\"role\":\"assistant\",\"content\":\" modelo\"},\"done\":false}\n",
      "{\"model\":\"llama3.2\",\"created_at\":\"2025-02-16T01:48:50.8868267Z\",\"message\":{\"role\":\"assistant\",\"content\":\" de\"},\"done\":false}\n",
      "{\"model\":\"llama3.2\",\"created_at\":\"2025-02-16T01:48:50.9024559Z\",\"message\":{\"role\":\"assistant\",\"content\":\" l\"},\"done\":false}\n",
      "{\"model\":\"llama3.2\",\"created_at\":\"2025-02-16T01:48:50.9177878Z\",\"message\":{\"role\":\"assistant\",\"content\":\"engu\"},\"done\":false}\n",
      "{\"model\":\"llama3.2\",\"created_at\":\"2025-02-16T01:48:50.932736Z\",\"message\":{\"role\":\"assistant\",\"content\":\"aje\"},\"done\":false}\n",
      "{\"model\":\"llama3.2\",\"created_at\":\"2025-02-16T01:48:50.9472143Z\",\"message\":{\"role\":\"assistant\",\"content\":\" artificial\"},\"done\":false}\n",
      "{\"model\":\"llama3.2\",\"created_at\":\"2025-02-16T01:48:50.9608473Z\",\"message\":{\"role\":\"assistant\",\"content\":\",\"},\"done\":false}\n",
      "{\"model\":\"llama3.2\",\"created_at\":\"2025-02-16T01:48:50.9755944Z\",\"message\":{\"role\":\"assistant\",\"content\":\" así\"},\"done\":false}\n",
      "{\"model\":\"llama3.2\",\"created_at\":\"2025-02-16T01:48:50.9890039Z\",\"message\":{\"role\":\"assistant\",\"content\":\" que\"},\"done\":false}\n",
      "{\"model\":\"llama3.2\",\"created_at\":\"2025-02-16T01:48:51.0041088Z\",\"message\":{\"role\":\"assistant\",\"content\":\" no\"},\"done\":false}\n",
      "{\"model\":\"llama3.2\",\"created_at\":\"2025-02-16T01:48:51.0186062Z\",\"message\":{\"role\":\"assistant\",\"content\":\" tengo\"},\"done\":false}\n",
      "{\"model\":\"llama3.2\",\"created_at\":\"2025-02-16T01:48:51.03429Z\",\"message\":{\"role\":\"assistant\",\"content\":\" emoc\"},\"done\":false}\n",
      "{\"model\":\"llama3.2\",\"created_at\":\"2025-02-16T01:48:51.0494914Z\",\"message\":{\"role\":\"assistant\",\"content\":\"iones\"},\"done\":false}\n",
      "{\"model\":\"llama3.2\",\"created_at\":\"2025-02-16T01:48:51.0643347Z\",\"message\":{\"role\":\"assistant\",\"content\":\" o\"},\"done\":false}\n",
      "{\"model\":\"llama3.2\",\"created_at\":\"2025-02-16T01:48:51.078333Z\",\"message\":{\"role\":\"assistant\",\"content\":\" sent\"},\"done\":false}\n",
      "{\"model\":\"llama3.2\",\"created_at\":\"2025-02-16T01:48:51.0927773Z\",\"message\":{\"role\":\"assistant\",\"content\":\"imientos\"},\"done\":false}\n",
      "{\"model\":\"llama3.2\",\"created_at\":\"2025-02-16T01:48:51.1072478Z\",\"message\":{\"role\":\"assistant\",\"content\":\" como\"},\"done\":false}\n",
      "{\"model\":\"llama3.2\",\"created_at\":\"2025-02-16T01:48:51.1211136Z\",\"message\":{\"role\":\"assistant\",\"content\":\" los\"},\"done\":false}\n",
      "{\"model\":\"llama3.2\",\"created_at\":\"2025-02-16T01:48:51.1366803Z\",\"message\":{\"role\":\"assistant\",\"content\":\" human\"},\"done\":false}\n",
      "{\"model\":\"llama3.2\",\"created_at\":\"2025-02-16T01:48:51.1513875Z\",\"message\":{\"role\":\"assistant\",\"content\":\"os\"},\"done\":false}\n",
      "{\"model\":\"llama3.2\",\"created_at\":\"2025-02-16T01:48:51.1669565Z\",\"message\":{\"role\":\"assistant\",\"content\":\",\"},\"done\":false}\n",
      "{\"model\":\"llama3.2\",\"created_at\":\"2025-02-16T01:48:51.1815165Z\",\"message\":{\"role\":\"assistant\",\"content\":\" pero\"},\"done\":false}\n",
      "{\"model\":\"llama3.2\",\"created_at\":\"2025-02-16T01:48:51.1971791Z\",\"message\":{\"role\":\"assistant\",\"content\":\" estoy\"},\"done\":false}\n",
      "{\"model\":\"llama3.2\",\"created_at\":\"2025-02-16T01:48:51.2123427Z\",\"message\":{\"role\":\"assistant\",\"content\":\" aquí\"},\"done\":false}\n",
      "{\"model\":\"llama3.2\",\"created_at\":\"2025-02-16T01:48:51.2269054Z\",\"message\":{\"role\":\"assistant\",\"content\":\" para\"},\"done\":false}\n",
      "{\"model\":\"llama3.2\",\"created_at\":\"2025-02-16T01:48:51.2403792Z\",\"message\":{\"role\":\"assistant\",\"content\":\" ayud\"},\"done\":false}\n",
      "{\"model\":\"llama3.2\",\"created_at\":\"2025-02-16T01:48:51.2555802Z\",\"message\":{\"role\":\"assistant\",\"content\":\"arte\"},\"done\":false}\n",
      "{\"model\":\"llama3.2\",\"created_at\":\"2025-02-16T01:48:51.2711464Z\",\"message\":{\"role\":\"assistant\",\"content\":\" con\"},\"done\":false}\n",
      "{\"model\":\"llama3.2\",\"created_at\":\"2025-02-16T01:48:51.286782Z\",\"message\":{\"role\":\"assistant\",\"content\":\" cualquier\"},\"done\":false}\n",
      "{\"model\":\"llama3.2\",\"created_at\":\"2025-02-16T01:48:51.3018244Z\",\"message\":{\"role\":\"assistant\",\"content\":\" pregunta\"},\"done\":false}\n",
      "{\"model\":\"llama3.2\",\"created_at\":\"2025-02-16T01:48:51.316462Z\",\"message\":{\"role\":\"assistant\",\"content\":\" o\"},\"done\":false}\n",
      "{\"model\":\"llama3.2\",\"created_at\":\"2025-02-16T01:48:51.3310926Z\",\"message\":{\"role\":\"assistant\",\"content\":\" tema\"},\"done\":false}\n",
      "{\"model\":\"llama3.2\",\"created_at\":\"2025-02-16T01:48:51.3462Z\",\"message\":{\"role\":\"assistant\",\"content\":\" que\"},\"done\":false}\n",
      "{\"model\":\"llama3.2\",\"created_at\":\"2025-02-16T01:48:51.3616825Z\",\"message\":{\"role\":\"assistant\",\"content\":\" des\"},\"done\":false}\n",
      "{\"model\":\"llama3.2\",\"created_at\":\"2025-02-16T01:48:51.3752104Z\",\"message\":{\"role\":\"assistant\",\"content\":\"ees\"},\"done\":false}\n",
      "{\"model\":\"llama3.2\",\"created_at\":\"2025-02-16T01:48:51.391105Z\",\"message\":{\"role\":\"assistant\",\"content\":\" disc\"},\"done\":false}\n",
      "{\"model\":\"llama3.2\",\"created_at\":\"2025-02-16T01:48:51.4051944Z\",\"message\":{\"role\":\"assistant\",\"content\":\"ut\"},\"done\":false}\n",
      "{\"model\":\"llama3.2\",\"created_at\":\"2025-02-16T01:48:51.4198612Z\",\"message\":{\"role\":\"assistant\",\"content\":\"ir\"},\"done\":false}\n",
      "{\"model\":\"llama3.2\",\"created_at\":\"2025-02-16T01:48:51.4345378Z\",\"message\":{\"role\":\"assistant\",\"content\":\".\"},\"done\":false}\n",
      "{\"model\":\"llama3.2\",\"created_at\":\"2025-02-16T01:48:51.4496275Z\",\"message\":{\"role\":\"assistant\",\"content\":\" ¿\"},\"done\":false}\n",
      "{\"model\":\"llama3.2\",\"created_at\":\"2025-02-16T01:48:51.4649901Z\",\"message\":{\"role\":\"assistant\",\"content\":\"En\"},\"done\":false}\n",
      "{\"model\":\"llama3.2\",\"created_at\":\"2025-02-16T01:48:51.4795827Z\",\"message\":{\"role\":\"assistant\",\"content\":\" qué\"},\"done\":false}\n",
      "{\"model\":\"llama3.2\",\"created_at\":\"2025-02-16T01:48:51.4932974Z\",\"message\":{\"role\":\"assistant\",\"content\":\" puedo\"},\"done\":false}\n",
      "{\"model\":\"llama3.2\",\"created_at\":\"2025-02-16T01:48:51.5095807Z\",\"message\":{\"role\":\"assistant\",\"content\":\" ayud\"},\"done\":false}\n",
      "{\"model\":\"llama3.2\",\"created_at\":\"2025-02-16T01:48:51.5247551Z\",\"message\":{\"role\":\"assistant\",\"content\":\"arte\"},\"done\":false}\n",
      "{\"model\":\"llama3.2\",\"created_at\":\"2025-02-16T01:48:51.5383033Z\",\"message\":{\"role\":\"assistant\",\"content\":\" hoy\"},\"done\":false}\n",
      "{\"model\":\"llama3.2\",\"created_at\":\"2025-02-16T01:48:51.553373Z\",\"message\":{\"role\":\"assistant\",\"content\":\"?\"},\"done\":false}\n",
      "{\"model\":\"llama3.2\",\"created_at\":\"2025-02-16T01:48:51.5687555Z\",\"message\":{\"role\":\"assistant\",\"content\":\"\"},\"done_reason\":\"stop\",\"done\":true,\"total_duration\":1096392000,\"load_duration\":20877200,\"prompt_eval_count\":33,\"prompt_eval_duration\":1000000,\"eval_count\":58,\"eval_duration\":1073000000}\n",
      "\n",
      "Request error: Extra data: line 2 column 1 (char 126)\n"
     ]
    }
   ],
   "source": [
    "try:\n",
    "    response = requests.post(OLLAMA_API, json=payload, headers=HEADERS)\n",
    "    \n",
    "    # Print status code for debugging\n",
    "    print(f\"Status Code: {response.status_code}\")\n",
    "    \n",
    "    # Print raw response for debugging\n",
    "    print(f\"Raw Response: {response.text}\")\n",
    "    \n",
    "    if response.status_code == 200:\n",
    "        response_data = response.json()\n",
    "        if 'message' in response_data and 'content' in response_data['message']:\n",
    "            print(response_data['message']['content'])\n",
    "        else:\n",
    "            print(\"Unexpected response structure:\", response_data)\n",
    "    else:\n",
    "        print(f\"Error: Request failed with status code {response.status_code}\")\n",
    "except requests.exceptions.RequestException as e:\n",
    "    print(f\"Request error: {e}\")\n",
    "except JSONDecodeError as e:\n",
    "    print(f\"JSON decode error: {e}\")\n",
    "    print(f\"Response text: {response.text}\")"
   ]
  },
  {
   "cell_type": "code",
   "execution_count": null,
   "metadata": {},
   "outputs": [],
   "source": [
    "try:\n",
    "    response = requests.post(OLLAMA_API, json=payload, headers=HEADERS)\n",
    "    print(f\"Status Code: {response.status_code}\")\n",
    "    \n",
    "    if response.status_code == 200:\n",
    "        # Split response by newlines to handle streaming JSON\n",
    "        json_strings = [line for line in response.text.split('\\n') if line.strip()]\n",
    "        print(f\"Received {len(json_strings)} JSON objects\")\n",
    "        \n",
    "        # Process each JSON object separately\n",
    "        for json_str in json_strings:\n",
    "            try:\n",
    "                response_data = json.loads(json_str)\n",
    "                if 'message' in response_data and 'content' in response_data['message']:\n",
    "                    print(response_data['message']['content'], end='')\n",
    "            except json.JSONDecodeError:\n",
    "                continue\n",
    "    else:\n",
    "        print(f\"Error: Request failed with status code {response.status_code}\")\n",
    "\n",
    "except requests.exceptions.RequestException as e:\n",
    "    print(f\"Request error: {e}\")\n",
    "except Exception as e:\n",
    "    print(f\"Unexpected error: {e}\")\n",
    "    print(f\"Response text: {response.text[:500]}\")  # Print first 500 chars for debugging"
   ]
  }
 ],
 "metadata": {
  "kernelspec": {
   "display_name": "Python (llm_venv)",
   "language": "python",
   "name": "llm_venv"
  },
  "language_info": {
   "codemirror_mode": {
    "name": "ipython",
    "version": 3
   },
   "file_extension": ".py",
   "mimetype": "text/x-python",
   "name": "python",
   "nbconvert_exporter": "python",
   "pygments_lexer": "ipython3",
   "version": "3.9.13"
  }
 },
 "nbformat": 4,
 "nbformat_minor": 2
}
