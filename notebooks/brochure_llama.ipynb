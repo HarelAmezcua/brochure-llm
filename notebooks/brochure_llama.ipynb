{
 "cells": [
  {
   "cell_type": "markdown",
   "metadata": {},
   "source": [
    "# Website Brochure Generator\n",
    "\n",
    "This notebook demonstrates the implementation of a tool that reads a website and produces an informative brochure about it."
   ]
  },
  {
   "cell_type": "code",
   "execution_count": null,
   "metadata": {},
   "outputs": [],
   "source": [
    "# Importing the necessary libraries\n",
    "import requests\n",
    "from bs4 import BeautifulSoup\n",
    "from IPython.display import Markdown, display\n",
    "import json"
   ]
  },
  {
   "cell_type": "code",
   "execution_count": null,
   "metadata": {},
   "outputs": [],
   "source": [
    "# CONSTANTS\n",
    "OLLAMA_API = \"http://127.0.0.1:11434//api/chat\"\n",
    "HEADERS = {\"Content-Type\": \"application/json\"}\n",
    "MODEL = \"llama3.2\""
   ]
  },
  {
   "cell_type": "code",
   "execution_count": null,
   "metadata": {},
   "outputs": [],
   "source": [
    "# Crea una lista de mensajes utilizando el mismo formato que el API de OpenAI\n",
    "messages = [{\"role\": \"user\", \"content\": \"Hola, ¿cómo estás?\"}]\n",
    "payload = {\n",
    "    \"model\": MODEL,\n",
    "    \"messages\": messages,\n",
    "    \"stream\": False\n",
    "}"
   ]
  },
  {
   "cell_type": "code",
   "execution_count": null,
   "metadata": {},
   "outputs": [],
   "source": [
    "class Website:\n",
    "    def __init__(self, url):\n",
    "        self.url = url\n",
    "        response = requests.get(url)\n",
    "        self.body = response.text\n",
    "        self.soup = BeautifulSoup(self.page.content, \"html.parser\")     \n",
    "        self.title = self.soup.title.string if self.soup.title else None   \n",
    "\n",
    "        # Eliminating irrelevant tags\n",
    "        if self.soup.body:\n",
    "            for irrelevant in self.soup([\"script\", \"style\", \"img\", \"input\"]):            \n",
    "                irrelevant.decompose()\n",
    "\n",
    "        \n",
    "\n",
    "        "
   ]
  },
  {
   "cell_type": "code",
   "execution_count": null,
   "metadata": {},
   "outputs": [],
   "source": [
    "website = Website(\"https://en.wikipedia.org/wiki/Zebra\")\n",
    "type(website.body)"
   ]
  },
  {
   "cell_type": "code",
   "execution_count": null,
   "metadata": {},
   "outputs": [],
   "source": [
    "try:\n",
    "    response = requests.post(OLLAMA_API, json=payload, headers=HEADERS)    \n",
    "    # Print status code for debugging\n",
    "    print(f\"Status Code: {response.status_code}\")\n",
    "    \n",
    "    # Print raw response for debugging\n",
    "    print(f\"Raw Response: {response.text}\")\n",
    "    \n",
    "    if response.status_code == 200:\n",
    "        response_data = response.json()\n",
    "        if 'message' in response_data and 'content' in response_data['message']:\n",
    "            print(response_data['message']['content'])\n",
    "        else:\n",
    "            print(\"Unexpected response structure:\", response_data)\n",
    "    else:\n",
    "        print(f\"Error: Request failed with status code {response.status_code}\")\n",
    "except requests.exceptions.RequestException as e:\n",
    "    print(f\"Request error: {e}\")\n",
    "except json.JSONDecodeError as e:\n",
    "    print(f\"JSON decode error: {e}\")\n",
    "    print(f\"Response text: {response.text}\")"
   ]
  }
 ],
 "metadata": {
  "kernelspec": {
   "display_name": "Python (llm_venv)",
   "language": "python",
   "name": "llm_venv"
  },
  "language_info": {
   "codemirror_mode": {
    "name": "ipython",
    "version": 3
   },
   "file_extension": ".py",
   "mimetype": "text/x-python",
   "name": "python",
   "nbconvert_exporter": "python",
   "pygments_lexer": "ipython3",
   "version": "3.9.13"
  }
 },
 "nbformat": 4,
 "nbformat_minor": 2
}
